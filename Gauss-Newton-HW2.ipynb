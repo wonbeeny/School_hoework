{
 "cells": [
  {
   "cell_type": "markdown",
   "metadata": {},
   "source": [
    "<center>\n",
    "\n",
    "# Gauss-Newton으로 ols 추정\n",
    "\n",
    "### 미분에 필요한 식은 다음과 같습니다.\n",
    "\n",
    "</center>\n",
    "\n",
    "$$\n",
    "\\begin{align}\n",
    "\\\\\n",
    "\\quad \n",
    "& f(t_i,\\beta) = \\beta_1/(1+\\exp(\\beta_2+\\beta_3t_i) \\\\\n",
    "\\\\\n",
    "& f_{\\beta_1} = 1/ (1+\\exp(\\beta_2+\\beta_3t_i)) \\\\\n",
    "& f_{\\beta_2} = -\\beta_1\\exp(\\beta_2+\\beta_3t_i)/(1+\\exp(\\beta_2+\\beta_3t_i))^2 \\\\\n",
    "& f_{\\beta_3} =  -\\beta_1t_i\\exp(\\beta_2+\\beta_3t_i)/(1+\\exp(\\beta_2+\\beta_3t_i))^2 \\\\\n",
    "\\\\\n",
    "\\end{align}\n",
    "$$"
   ]
  },
  {
   "cell_type": "code",
   "execution_count": 1,
   "metadata": {},
   "outputs": [],
   "source": [
    "# 계산에 필요한 파이썬 라이브러리 import\n",
    "import math\n",
    "import numpy as np\n",
    "from scipy.linalg import solve"
   ]
  },
  {
   "cell_type": "code",
   "execution_count": 2,
   "metadata": {},
   "outputs": [],
   "source": [
    "#data t_i, year_i, population\n",
    "\n",
    "t = list(range(1,23))\n",
    "year = list(range(1790,2010,10))\n",
    "\n",
    "population = np.array([3929,5308,7239,9638,12866,17069,23191,31443,39818,50155,62947,75994,\n",
    "     91972,105710,122775,131669,151325,179323,203211,226542,248710,281422])"
   ]
  },
  {
   "cell_type": "code",
   "execution_count": 3,
   "metadata": {},
   "outputs": [
    {
     "name": "stdout",
     "output_type": "stream",
     "text": [
      "[1, 2, 3, 4, 5, 6, 7, 8, 9, 10, 11, 12, 13, 14, 15, 16, 17, 18, 19, 20, 21, 22]\n"
     ]
    }
   ],
   "source": [
    "# t 는 1부터 22까지 입니다.\n",
    "print(t)"
   ]
  },
  {
   "cell_type": "code",
   "execution_count": 4,
   "metadata": {},
   "outputs": [
    {
     "name": "stdout",
     "output_type": "stream",
     "text": [
      "[1790, 1800, 1810, 1820, 1830, 1840, 1850, 1860, 1870, 1880, 1890, 1900, 1910, 1920, 1930, 1940, 1950, 1960, 1970, 1980, 1990, 2000]\n"
     ]
    }
   ],
   "source": [
    "# year는 1790부터 2000까지 10 단위씩 입니다. \n",
    "\n",
    "print(year)"
   ]
  },
  {
   "cell_type": "code",
   "execution_count": 5,
   "metadata": {},
   "outputs": [],
   "source": [
    "#초기값 beta1, beta2, beta3 설정\n",
    "\n",
    "Beta1 = 400\n",
    "Beta2 = 4\n",
    "Beta3 = -0.2\n",
    "\n",
    "# population의 값을 1000으로 나누어 scaling 해줍니다. \n",
    "\n",
    "population = population/1000\n",
    "\n",
    "B = []\n",
    "\n",
    "B.append(np.array([[Beta1], [Beta2], [Beta3]]))\n",
    "iter_num = 0"
   ]
  },
  {
   "cell_type": "code",
   "execution_count": 6,
   "metadata": {},
   "outputs": [
    {
     "name": "stdout",
     "output_type": "stream",
     "text": [
      "[  3.929   5.308   7.239   9.638  12.866  17.069  23.191  31.443  39.818\n",
      "  50.155  62.947  75.994  91.972 105.71  122.775 131.669 151.325 179.323\n",
      " 203.211 226.542 248.71  281.422]\n"
     ]
    }
   ],
   "source": [
    "print(population)"
   ]
  },
  {
   "cell_type": "markdown",
   "metadata": {},
   "source": [
    "<center>\n",
    "    \n",
    "### 계산에는 다음과 같은 식을 사용하였습니다. \n",
    "\n",
    "</center>\n",
    "\n",
    "$$\n",
    "\\begin{align}\n",
    "\\\\\n",
    "\\quad \n",
    "&\\{ \\sum^n_{i} f_{\\beta}(x_i,\\beta^*)f^T_\\beta(x_i,\\beta^*)\\}(\\beta-\\beta^*) = \\sum^n_i \\{y_i - f(x_i,\\beta^*)\\}f_\\beta(x_i,\\beta^*) \n",
    "\\\\\n",
    "& f_{\\beta_1} = 1/ (1+\\exp(\\beta_2+\\beta_3t_i)) \\\\\n",
    "& f_{\\beta_2} = -\\beta_1\\exp(\\beta_2+\\beta_3t_i)/(1+\\exp(\\beta_2+\\beta_3t_i))^2 \\\\\n",
    "& f_{\\beta_3} =  -\\beta_1t_i\\exp(\\beta_2+\\beta_3t_i)/(1+\\exp(\\beta_2+\\beta_3t_i))^2 \\\\\n",
    "\\end{align}\n",
    "$$\n"
   ]
  },
  {
   "cell_type": "code",
   "execution_count": 7,
   "metadata": {},
   "outputs": [
    {
     "name": "stdout",
     "output_type": "stream",
     "text": [
      "break\n",
      "iter_num =  8\n",
      "Beta1 =  [444.27518855]\n",
      "Beta2 =  [4.24798029]\n",
      "Beta3 =  [-0.21518069]\n"
     ]
    }
   ],
   "source": [
    "# k=0부터 100까지 반복합니다. (최대 iter 설정)\n",
    "for k in range(0,100):\n",
    "    iter_num += 1\n",
    "    \n",
    "    C1 = np.zeros((3,1))\n",
    "    C2 = np.zeros((3,3))\n",
    "    \n",
    "    for i in range(len(t)):\n",
    "        residual = population[i]-(B[k][0]/(1+math.exp(B[k][1]+(B[k][2]*t[i]))))\n",
    "        \n",
    "        f_round_b1 = 1/(1+math.exp(B[k][1]+(B[k][2]*t[i])))\n",
    "        f_round_b2 = -B[k][0]*math.exp(B[k][1]+(B[k][2]*t[i]))/((1+math.exp(B[k][1]+(B[k][2]*t[i])))**2)\n",
    "        f_round_b3 =-B[k][0]*t[i]*math.exp(B[k][1]+(B[k][2]*t[i]))/((1+math.exp(B[k][1]+(B[k][2]*t[i])))**2)\n",
    "        \n",
    "        f_round_beta = np.array([[f_round_b1],[f_round_b2],[f_round_b3]])\n",
    "        \n",
    "        C1 += residual*f_round_beta\n",
    "        C2 += np.dot(f_round_beta, f_round_beta.T)\n",
    "    \n",
    "    inverse_matrix = np.linalg.inv(C2)\n",
    "    K = np.dot(inverse_matrix, C1)\n",
    "\n",
    "    new_Beta = B[k]+K\n",
    "\n",
    "    B.append(new_Beta)\n",
    "\n",
    "# #     # 새로운 Beta값들을 비교한 것중 최대값이 10e-8보다 작으면 수렴했다고 가정하고 루프를 멈춘다. \n",
    "    if max(abs(B[k+1]-B[k])/abs(B[k])) < 10e-8:\n",
    "        print(\"break\")\n",
    "        break\n",
    "\n",
    "# 반복수와 추정값 Beta는 다음과 같습니다.  \n",
    "print(\"iter_num = \", iter_num)\n",
    "print(\"Beta1 = \", B[k+1][0] )\n",
    "print(\"Beta2 = \", B[k+1][1] )\n",
    "print(\"Beta3 = \", B[k+1][2] )\n"
   ]
  },
  {
   "cell_type": "code",
   "execution_count": 9,
   "metadata": {},
   "outputs": [
    {
     "data": {
      "image/png": "[encoded data removed]",
      "text/plain": [
       "<matplotlib.figure.Figure at 0x6179d5860>"
      ]
     },
     "metadata": {},
     "output_type": "display_data"
    }
   ],
   "source": [
    "import matplotlib.pyplot as plt\n",
    "plt.plot(t, population, 'ro')\n",
    "plt.axis([0, 20, 0, 300])\n",
    "x = np.arange(0,20,1)\n",
    "\n",
    "plt.plot(x, (444.27518855/(1+ math.e **(4.24798029+( -0.21518069*x)))), 'r--')\n",
    "plt.show()"
   ]
  },
  {
   "cell_type": "code",
   "execution_count": 1,
   "metadata": {},
   "outputs": [
    {
     "name": "stdout",
     "output_type": "stream",
     "text": [
      "0\n",
      "1\n",
      "2\n",
      "3\n",
      "4\n",
      "5\n",
      "6\n",
      "7\n",
      "8\n",
      "9\n"
     ]
    }
   ],
   "source": [
    "for i in range(10):\n",
    "    print("
   ]
  },
  {
   "cell_type": "code",
   "execution_count": null,
   "metadata": {},
   "outputs": [],
   "source": []
  }
 ],
 "metadata": {
  "kernelspec": {
   "display_name": "Python 3",
   "language": "python",
   "name": "python3"
  },
  "language_info": {
   "codemirror_mode": {
    "name": "ipython",
    "version": 3
   },
   "file_extension": ".py",
   "mimetype": "text/x-python",
   "name": "python",
   "nbconvert_exporter": "python",
   "pygments_lexer": "ipython3",
   "version": "3.6.4"
  }
 },
 "nbformat": 4,
 "nbformat_minor": 2
}
