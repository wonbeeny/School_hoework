{
 "cells": [
  {
   "cell_type": "markdown",
   "metadata": {},
   "source": [
    "<center>\n",
    "\n",
    "# Newton-Raphson으로 ols 추정\n",
    "\n",
    "### 미분에 필요한 식은 다음과 같습니다.\n",
    "\n",
    "</center>\n",
    "\n",
    "$$\n",
    "\\begin{align}\n",
    "\\\\\n",
    "\\quad \n",
    "& f(x_i,\\beta) = \\beta_1 \\exp(-\\beta_2x_i) \\\\\n",
    "\\\\\n",
    "& f_{\\beta_1} = \\exp(-\\beta_2x_i) \\\\\n",
    "&f_{\\beta_2} = -\\beta_1x_i\\exp(-\\beta_2x_i) \\\\\n",
    "\\\\\n",
    "& f_{\\beta_1\\beta_1} = 0 \\\\\n",
    "& f_{\\beta_1\\beta_2} = -x_i\\exp(-\\beta_2x_i)\\\\\n",
    "&  f_{\\beta_2\\beta_1} = -x_i\\exp(-\\beta_2x_i) \\\\\n",
    "& f_{\\beta_2\\beta_2} = \\beta_1x^2_i\\exp(-\\beta_2x_i) \\\\\n",
    "\\\\\n",
    "\\end{align}\n",
    "$$"
   ]
  },
  {
   "cell_type": "code",
   "execution_count": 1,
   "metadata": {},
   "outputs": [],
   "source": [
    "# 계산에 필요한 파이썬 라이브러리 import\n",
    "import math\n",
    "import numpy as np\n",
    "from scipy.linalg import solve"
   ]
  },
  {
   "cell_type": "code",
   "execution_count": 2,
   "metadata": {},
   "outputs": [],
   "source": [
    "#data x_i, y_i \n",
    "\n",
    "x = [0.25,0.5,0.75,1,1.25,2,3,4,5,6,8]\n",
    "y = [2.05,1.04,0.81,0.39,0.3,0.23,0.13,0.11,0.08,0.1,0.06]"
   ]
  },
  {
   "cell_type": "markdown",
   "metadata": {},
   "source": [
    "<center>\n",
    "\n",
    "# 초기 베타값 설정\n",
    "\n",
    "</center>\n",
    "\n",
    "$$\n",
    "\\begin{align}\n",
    "\\\\\n",
    "\\quad \n",
    "& \\beta_2 = log(y_1/y_0)/(x_0-x_1)\\\\\n",
    "\\\\\n",
    "& \\beta_1 = y_0/exp(-\\beta_2x_0) \\quad or \\quad  \\beta_1 = y_1/exp(-\\beta_2x_1)\\\\\n",
    "\\\\\n",
    "\\end{align}\n",
    "$$"
   ]
  },
  {
   "cell_type": "code",
   "execution_count": 3,
   "metadata": {},
   "outputs": [],
   "source": [
    "#Beta의 초기값을 설정합니다.\n",
    "B = []\n",
    "\n",
    "Beta2 = math.log(y[1]/y[0])/(x[0]-x[1])\n",
    "Beta1 = y[0]/math.exp(-Beta2*x[0])\n",
    "\n",
    "# B 는 2*1 vector입니다. Beta1 = 4.04086538, Beta2 = 2.71447632\n",
    "B.append(np.array([\n",
    "                               [Beta1],\n",
    "                               [Beta2]\n",
    "                                ]))\n",
    "\n",
    "#반복횟수를 계산하기 위해 0으로 초기값을 줍니다. \n",
    "iter_num = 0"
   ]
  },
  {
   "cell_type": "code",
   "execution_count": 4,
   "metadata": {},
   "outputs": [
    {
     "data": {
      "text/plain": [
       "[array([[4.04086538],\n",
       "        [2.71447632]])]"
      ]
     },
     "execution_count": 4,
     "metadata": {},
     "output_type": "execute_result"
    }
   ],
   "source": [
    "# 초기 beta 1 값은 4.04086538, beta 2 값은 2.71447632 입니다. \n",
    "B"
   ]
  },
  {
   "cell_type": "markdown",
   "metadata": {},
   "source": [
    "<center>\n",
    "    \n",
    "### 각 계산에는 다음과 같은 식을 사용하였습니다. \n",
    "\n",
    "</center>\n",
    "\n",
    "$$\n",
    "\\begin{align}\n",
    "\\\\\n",
    "\\quad \n",
    "&\\beta_{(a+1)} = \\beta_{(a)} - \\{\\sum^n_{i=1}l_{\\beta\\beta}(y_i,\\beta(a),\\sigma)\\}^{-1} \\sum^n_{i=1}l_{\\beta}(y_i,B(a),\\sigma) \\\\\n",
    "\\\\\n",
    "&  \\{\\sum^n_{i=1}l_{\\beta\\beta}(y_i,\\beta(a),\\sigma)\\}^{-1} = \\{\\sum^n_{i=1} -[f_\\beta(x_i,\\beta)]^2 +(y_i-f(x_i,\\beta))f_{\\beta\\beta}(x_i,\\beta)\\}^{-1}\n",
    "\\\\\n",
    "& \\sum^n_{i=1}l_{\\beta}(y_i,B(a),\\sigma) = \\sum^n_{i=1} \\{y_i - f(x_i,\\beta)\\} f_\\beta (x_i,\\beta)\n",
    "\\end{align}\n",
    "$$"
   ]
  },
  {
   "cell_type": "code",
   "execution_count": 5,
   "metadata": {},
   "outputs": [
    {
     "name": "stdout",
     "output_type": "stream",
     "text": [
      "break\n",
      "\n",
      "iter_num =  6\n",
      "Beta1 =  3.297332277471603\n",
      "Beta2 =  2.0251243069269163\n"
     ]
    }
   ],
   "source": [
    "# 루프를 100번 반복합니다. \n",
    "\n",
    "for k in range(0,100):\n",
    "    iter_num += 1\n",
    "    \n",
    "    # sum_log_beta와 sum_log_beta_beta는 각각  모든 원소가 0의 값을 가지는 2x1 벡터, 2X2 행렬입니다. (0으로 초기값을 준 것입니다.)\n",
    "    sum_log_beta = np.zeros((2,1))\n",
    "    sum_log_beta_beta = np.zeros((2,2))\n",
    "   \n",
    "    # 데이터의 수만큼 루프를 반복하며 summation 값을 구합니다. (데이터의 개수가 11개이므로 첫번째 데이터 부터 마지막데이터까지 )\n",
    "    for i in range(len(x)):\n",
    "    \n",
    "            # residual =  y_i - beta1 * exp(-Beta2*x_i)\n",
    "\n",
    "            residual = y[i]-(B[k][0]*math.exp(-B[k][1]*x[i]))\n",
    "            \n",
    "            # f_round_b1 = exp(-Beta2*x_i)\n",
    "            # f_round_b2 = -Beta1*x_i*exp(-Beta2*x_i)\n",
    "\n",
    "            f_round_b1 = math.exp(-B[k][1]*x[i])\n",
    "            f_round_b2 = -(B[k][0]*x[i]*math.exp(-B[k][1]*x[i]))\n",
    "            \n",
    "            # f_round_beta는 2*1 vector 입니다. \n",
    "\n",
    "            f_round_beta = np.array([\n",
    "                                            [f_round_b1],\n",
    "                                            [f_round_b2]\n",
    "                                            ])\n",
    "            \n",
    "            #계산한 값을 sum_log_beta에 더해줍니다. \n",
    "\n",
    "            sum_log_beta += residual * f_round_beta\n",
    "            \n",
    "            # f round_beta_square는 f_round_beta와 f_round_beta의 transpose를 내적한 값입니다. \n",
    "\n",
    "            f_round_beta_square = np.dot( f_round_beta, f_round_beta.T)\n",
    "            \n",
    "            # f_round_b1_b1 = 0\n",
    "            # f_round_b1_b2 = -x_i*exp(-Beta2*x_i)\n",
    "            # f_round_b2_b1 = -x_i*exp(-Beta2*x_i)\n",
    "            # f_round_b2_b2 = Beta1*(x_i^2)*exp(-Beta2*x_i)\n",
    "\n",
    "            f_round_b1_b1 = 0\n",
    "            f_round_b1_b2 = -x[i]*math.exp(-B[k][1]*x[i])\n",
    "            f_round_b2_b1 = -x[i]*math.exp(-B[k][1]*x[i])\n",
    "            f_round_b2_b2 = B[k][0]*(x[i]**2)*math.exp(-B[k][1]*x[i])\n",
    "            \n",
    "            # f_round_beta_beta는 2*2 matrix 입니다.\n",
    "\n",
    "            f_round_beta_beta =  np.array([\n",
    "                                                             [f_round_b1_b1,f_round_b1_b2],\n",
    "                                                             [f_round_b2_b1,f_round_b2_b2]\n",
    "                                                            ])\n",
    "            \n",
    "           # 계산한 값을 sum_log_beta_beta에 더해줍니다. \n",
    "\n",
    "            sum_log_beta_beta += -f_round_beta_square + (residual * f_round_beta_beta)\n",
    "        \n",
    "    # 모든 데이터에 대해 summation 한 값이  sum_log_beta_beta 이므로 행렬의 역행렬을 구해줍니다. \n",
    "    inverse_matrix = np.linalg.inv(sum_log_beta_beta)\n",
    "\n",
    "    # 역행렬과 sum_log_beta를 내적한 값을 K라고 하겠습니다. 따라서 K는 2*1 벡터입니다. \n",
    "    K = np.dot(inverse_matrix,sum_log_beta)\n",
    "\n",
    "    # 원래 베타값에서 K를 빼준 값을 새로운 베타값으로 정의하고 B 리스트에 추가합니다. \n",
    "    new_beta = B[k]-K\n",
    "    B.append(new_beta)\n",
    "    \n",
    "    # Beta1과 beta2의 차이 중 큰 수가 10e-8보다 작으면 수렴했다고 가정하고 루프를 멈춥니다.\n",
    "\n",
    "    if max(abs(B[k+1]-B[k])/B[k]) < 10e-8:\n",
    "        print(\"break\")\n",
    "        break\n",
    "        \n",
    "print()\n",
    "print(\"iter_num = \",iter_num )\n",
    "print(\"Beta1 = \",B[k][0][0])\n",
    "print(\"Beta2 = \",B[k][1][0])"
   ]
  },
  {
   "cell_type": "markdown",
   "metadata": {},
   "source": [
    "### 베타값이 다음과 같이 변화하였음을 알 수 있습니다. "
   ]
  },
  {
   "cell_type": "code",
   "execution_count": 6,
   "metadata": {
    "scrolled": false
   },
   "outputs": [
    {
     "name": "stdout",
     "output_type": "stream",
     "text": [
      "Beta1 값의 변화\n",
      "4.040865384615384-> 2.7936132085687864-> 3.1974707333098524-> 3.2921627066013417-> 3.2973170181409714-> 3.297332277471603-> 3.2973322776098954\n",
      "\n",
      "Beta2 값의 변화\n",
      "2.714476319988142-> 1.5759346276043646-> 1.9317311741229952-> 2.0201482947076363-> 2.025109239831671-> 2.0251243069269163-> 2.0251243070674136\n"
     ]
    }
   ],
   "source": [
    "# B 리스트에 들어있는 beta1 값과 beta2 값을 각각 다른 리스트에 넣어줍니다. \n",
    "change_Beta1_list = [f'{B[k][0][0]}' for k in range(len(B))]\n",
    "change_Beta2_list = [f'{B[k][1][0]}' for k in range(len(B))]\n",
    "\n",
    "print(\"Beta1 값의 변화\")\n",
    "print('-> '.join(change_Beta1_list))\n",
    "print()\n",
    "\n",
    "print(\"Beta2 값의 변화\")\n",
    "print('-> '.join(change_Beta2_list))\n"
   ]
  },
  {
   "cell_type": "markdown",
   "metadata": {},
   "source": [
    "### 수렴한 베타값들을 이용하여 그린 그래프는 다음과 같습니다. "
   ]
  },
  {
   "cell_type": "code",
   "execution_count": 8,
   "metadata": {
    "scrolled": true
   },
   "outputs": [
    {
     "data": {
      "image/png": "[encoded data removed]",
      "text/plain": [
       "<matplotlib.figure.Figure at 0x617056898>"
      ]
     },
     "metadata": {},
     "output_type": "display_data"
    }
   ],
   "source": [
    "import matplotlib.pyplot as plt\n",
    "plt.plot(x, y, 'ro')\n",
    "plt.axis([0, 10, 0, 3])\n",
    "t = np.arange(0,10,0.01)\n",
    "\n",
    "plt.plot(t, ((3.29733228*(math.e**(-2.02512431*t)))), 'r--')\n",
    "plt.show()"
   ]
  }
 ],
 "metadata": {
  "kernelspec": {
   "display_name": "Python 3",
   "language": "python",
   "name": "python3"
  },
  "language_info": {
   "codemirror_mode": {
    "name": "ipython",
    "version": 3
   },
   "file_extension": ".py",
   "mimetype": "text/x-python",
   "name": "python",
   "nbconvert_exporter": "python",
   "pygments_lexer": "ipython3",
   "version": "3.6.4"
  }
 },
 "nbformat": 4,
 "nbformat_minor": 2
}
